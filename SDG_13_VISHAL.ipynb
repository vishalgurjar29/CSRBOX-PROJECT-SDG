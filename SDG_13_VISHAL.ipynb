{
  "nbformat": 4,
  "nbformat_minor": 0,
  "metadata": {
    "colab": {
      "provenance": [],
      "authorship_tag": "ABX9TyMbzG5nHhg88xBcfxqyxa34",
      "include_colab_link": true
    },
    "kernelspec": {
      "name": "python3",
      "display_name": "Python 3"
    },
    "language_info": {
      "name": "python"
    }
  },
  "cells": [
    {
      "cell_type": "markdown",
      "metadata": {
        "id": "view-in-github",
        "colab_type": "text"
      },
      "source": [
        "<a href=\"https://colab.research.google.com/github/vishalgurjar29/CSRBOX-PROJECT-SDG/blob/main/SDG_13_VISHAL.ipynb\" target=\"_parent\"><img src=\"https://colab.research.google.com/assets/colab-badge.svg\" alt=\"Open In Colab\"/></a>"
      ]
    },
    {
      "cell_type": "markdown",
      "source": [
        "# 🌍 SDG 13 - Climate Action AI Assistant 🤖\n",
        "**Created using Google Gemini API & Google Colab**  \n",
        "This AI bot answers questions related to the United Nations Sustainable Development Goal 13: **Climate Action**.\n"
      ],
      "metadata": {
        "id": "HlEih27rLKEl"
      }
    },
    {
      "cell_type": "markdown",
      "source": [
        "# 🔹 Step 1: Install the Gemini SDK (if not already installed)\n",
        "Install the official Google Gemini SDK to interact with the generative AI model.\n",
        "\n",
        "---\n"
      ],
      "metadata": {
        "id": "QXIFQ46YH7ET"
      }
    },
    {
      "cell_type": "code",
      "source": [
        "!pip install -q google-generativeai\n"
      ],
      "metadata": {
        "id": "3e1lcAxPIaJI"
      },
      "execution_count": 21,
      "outputs": []
    },
    {
      "cell_type": "markdown",
      "source": [
        "# 🔹 Step 2: Import required libraries\n",
        "We import the necessary Python libraries for accessing the Gemini API.\n",
        "\n",
        "---\n",
        "\n"
      ],
      "metadata": {
        "id": "M-yZbRanIEmq"
      }
    },
    {
      "cell_type": "code",
      "source": [
        "import google.generativeai as genai\n"
      ],
      "metadata": {
        "id": "bAK_GknIIcro"
      },
      "execution_count": 22,
      "outputs": []
    },
    {
      "cell_type": "markdown",
      "source": [
        "# 🔹 Step 3: Set your Gemini API key\n",
        "Configure your Gemini API key to authenticate requests.  \n",
        "🔐 You can get your key from: [https://makersuite.google.com/app/apikey](https://makersuite.google.com/app/apikey)\n",
        "\n",
        "---\n"
      ],
      "metadata": {
        "id": "8RfkTR3YIQrN"
      }
    },
    {
      "cell_type": "code",
      "source": [
        "GEMINI_API_KEY = \"AIza********************\"\n",
        "genai.configure(api_key=GEMINI_API_KEY)"
      ],
      "metadata": {
        "id": "xv22ywpdIgL6"
      },
      "execution_count": 23,
      "outputs": []
    },
    {
      "cell_type": "markdown",
      "source": [
        "#🔹 Step 4: Create the Gemini model instance\n",
        "We use the **`gemini-1.5-flash-latest`** model — the free and fast version for this project.\n",
        "\n",
        "---\n"
      ],
      "metadata": {
        "id": "tsRi7W9qITe6"
      }
    },
    {
      "cell_type": "code",
      "source": [
        "model = genai.GenerativeModel(model_name=\"models/gemini-1.5-flash-latest\")"
      ],
      "metadata": {
        "id": "KN0_Ig-mIkZy"
      },
      "execution_count": 24,
      "outputs": []
    },
    {
      "cell_type": "markdown",
      "source": [
        "# 🔹 Step 5: Define a helper function to ask questions\n",
        "This function sends user questions to the Gemini model and returns an expert answer based on SDG 13.\n",
        "\n",
        "---"
      ],
      "metadata": {
        "id": "WQG36jlZIVq0"
      }
    },
    {
      "cell_type": "code",
      "source": [
        "def ask_sdg13_bot(question):\n",
        "    prompt = f\"\"\"You are an expert on the United Nations Sustainable Development Goal 13 (Climate Action).\n",
        "Answer the following user question in a helpful and educational way:\n",
        "\n",
        "User: {question}\n",
        "SDG 13 Answer:\"\"\"\n",
        "\n",
        "    response = model.generate_content(prompt)\n",
        "    return response.text"
      ],
      "metadata": {
        "id": "HDBodTQFIp6C"
      },
      "execution_count": 25,
      "outputs": []
    },
    {
      "cell_type": "markdown",
      "source": [
        "# 🔹 Step 6: Test it!\n",
        "Try asking the bot any question related to climate action, like:\n",
        "- What is SDG 13?\n",
        "- Why is climate action important?\n",
        "- What steps can we take to reduce emissions?"
      ],
      "metadata": {
        "id": "bJOxr-iRIYT3"
      }
    },
    {
      "cell_type": "code",
      "source": [
        "ask = input(\"Ask the SDG 13 Climate Bot anything: \")\n",
        "print(ask_sdg13_bot(ask))"
      ],
      "metadata": {
        "colab": {
          "base_uri": "https://localhost:8080/",
          "height": 332
        },
        "id": "GXUEf6plIr5L",
        "outputId": "b3c65b9d-c8fe-46d8-94bf-a812c8c5b28f"
      },
      "execution_count": 26,
      "outputs": [
        {
          "output_type": "stream",
          "name": "stdout",
          "text": [
            "Ask the SDG 13 Climate Bot anything: What is SDG 13?\n",
            "SDG 13, or Sustainable Development Goal 13, focuses on **Climate Action**.  It's not just about reducing greenhouse gas emissions; it's a multifaceted goal encompassing a broad range of actions to address climate change and its impacts.  Let's break down the key aspects:\n",
            "\n",
            "**The overarching aim of SDG 13 is to \"take urgent action to combat climate change and its impacts.\"** This involves several interconnected objectives:\n",
            "\n",
            "* **Strengthening resilience and adaptive capacity to climate-related hazards and natural disasters:** This means building infrastructure and systems that can withstand extreme weather events, such as floods, droughts, and heatwaves.  It also includes early warning systems, disaster preparedness plans, and community-based resilience building.  It's crucial to understand that climate change doesn't just mean rising temperatures; it increases the frequency and intensity of extreme weather events.\n",
            "\n",
            "* **Integrating climate change measures into national policies, strategies, and planning:**  This requires mainstreaming climate considerations across all sectors of government and society, from energy and transportation to agriculture and urban planning.  It's not enough to have a dedicated climate ministry; climate action needs to be woven into the fabric of all policy decisions.\n",
            "\n",
            "* **Improving education, awareness-raising and human and institutional capacity on climate change mitigation, adaptation, impact reduction and early warning:**  Effective climate action requires an informed and engaged populace. Education and awareness are crucial for driving behavioral changes, promoting sustainable practices, and fostering a culture of responsibility.  Furthermore, strong institutions and trained personnel are necessary to implement and monitor climate policies effectively.\n",
            "\n",
            "* **Implementing the commitment undertaken by developed-country parties to the United Nations Framework Convention on Climate Change (UNFCCC) to the goal of mobilizing jointly $100 billion annually by 2020 from all sources to address the needs of developing countries in the context of meaningful mitigation actions and transparency on implementation, and recognizing the importance of achieving a balance between mitigation and adaptation in the context of long-term climate finance:** This highlights the crucial role of financial resources in supporting developing countries' efforts to adapt to and mitigate climate change.  The commitment to $100 billion annually reflects the disproportionate impact climate change has on vulnerable nations and the need for international cooperation in addressing this global challenge.  Transparency in the flow and use of these funds is also paramount.\n",
            "\n",
            "* **Promoting mechanisms for raising capacity for effective climate change-related planning and management in least developed countries and small island developing States, including focusing on women, youth and local and marginalized communities:**  This emphasizes the need for equitable and inclusive approaches to climate action, acknowledging the particular vulnerabilities of specific groups and the importance of their active participation in solutions.\n",
            "\n",
            "In summary, SDG 13 is not a single, easily defined target; it's a comprehensive framework requiring concerted global effort across all sectors to address the climate crisis effectively and equitably. It's a call to action for governments, businesses, and individuals alike to adopt sustainable practices and work together to build a more resilient and climate-safe future.  Ignoring any of these facets weakens the overall impact and effectiveness of climate action.\n",
            "\n"
          ]
        }
      ]
    },
    {
      "cell_type": "markdown",
      "source": [
        "---\n",
        "## ✅ **Project Complete**\n",
        "You've successfully created an SDG 13 AI bot using the free Gemini model on Google Colab.\n",
        "\n",
        "> **Developed by** : *GURJAR VISHAL* ( Vishwakarma Government Engineering College - 220170107044 )  \n",
        "> **Topic Source**: https://sdgs.un.org/goals/goal13\n"
      ],
      "metadata": {
        "id": "Hde75tPsNsVE"
      }
    }
  ]
}
